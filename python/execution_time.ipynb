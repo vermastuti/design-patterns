{
 "cells": [
  {
   "cell_type": "markdown",
   "id": "cef816b7",
   "metadata": {},
   "source": [
    "There are a few ways to calculate the execution time of a line (or block) in Python, depending on how precise and convenient you want it.\n",
    "\n",
    "🔹 1. Using time module"
   ]
  },
  {
   "cell_type": "code",
   "execution_count": 1,
   "id": "d8bae103",
   "metadata": {},
   "outputs": [
    {
     "name": "stdout",
     "output_type": "stream",
     "text": [
      "Execution time: 0.01912975311279297 seconds\n"
     ]
    }
   ],
   "source": [
    "import time\n",
    "\n",
    "start = time.time()\n",
    "# your line of code here\n",
    "result = sum(range(1000000))\n",
    "end = time.time()\n",
    "\n",
    "print(\"Execution time:\", end - start, \"seconds\")"
   ]
  },
  {
   "cell_type": "markdown",
   "id": "06811ff9",
   "metadata": {},
   "source": [
    "🔹 2. Using time.perf_counter() (better precision)"
   ]
  },
  {
   "cell_type": "code",
   "execution_count": 2,
   "id": "03966d13",
   "metadata": {},
   "outputs": [
    {
     "name": "stdout",
     "output_type": "stream",
     "text": [
      "Execution time: 0.018915583146736026 seconds\n"
     ]
    }
   ],
   "source": [
    "import time\n",
    "\n",
    "start = time.perf_counter()\n",
    "# your line of code here\n",
    "result = sum(range(1000000))\n",
    "end = time.perf_counter()\n",
    "\n",
    "print(\"Execution time:\", end - start, \"seconds\")"
   ]
  },
  {
   "cell_type": "markdown",
   "id": "a0bf7c9e",
   "metadata": {},
   "source": [
    "⚡ perf_counter() is preferred for benchmarking because it gives the highest available resolution timer.\n",
    "\n",
    "⸻\n",
    "\n",
    "🔹 3. Using timeit (best for repeated benchmarking)"
   ]
  },
  {
   "cell_type": "code",
   "execution_count": null,
   "id": "3dd25ea1",
   "metadata": {},
   "outputs": [],
   "source": [
    "import timeit\n",
    "\n",
    "execution_time = timeit.timeit(\"sum(range(1000000))\", number=1)\n",
    "print(\"Execution time:\", execution_time, \"seconds\")"
   ]
  },
  {
   "cell_type": "markdown",
   "id": "c3724f1e",
   "metadata": {},
   "source": [
    "\t•\tnumber=1 means run once.\n",
    "\t•\tFor averaging across multiple runs: number=1000.\n",
    "\n",
    "⸻\n",
    "\n",
    "🔹 4. Quick inline (using %%timeit in Jupyter/IPython)"
   ]
  },
  {
   "cell_type": "code",
   "execution_count": null,
   "id": "44d6cf85",
   "metadata": {},
   "outputs": [],
   "source": [
    "%%timeit\n",
    "sum(range(1000000))"
   ]
  },
  {
   "cell_type": "markdown",
   "id": "4cc0ff64",
   "metadata": {},
   "source": [
    "This runs the statement multiple times and gives an average.\n",
    "\n",
    "⸻\n",
    "\n",
    "👉 For one specific line during normal Python execution, use time.perf_counter(). For benchmarking performance and comparisons, use timeit."
   ]
  },
  {
   "cell_type": "markdown",
   "id": "525cbfc8",
   "metadata": {},
   "source": [
    "⏱️ 1. Function Decorator (for whole functions)"
   ]
  },
  {
   "cell_type": "code",
   "execution_count": null,
   "id": "891c00c9",
   "metadata": {},
   "outputs": [],
   "source": [
    "import time\n",
    "from functools import wraps\n",
    "\n",
    "def timer(func):\n",
    "    @wraps(func)\n",
    "    def wrapper(*args, **kwargs):\n",
    "        start = time.perf_counter()\n",
    "        result = func(*args, **kwargs)\n",
    "        end = time.perf_counter()\n",
    "        print(f\"⏱️ {func.__name__} took {end - start:.6f} seconds\")\n",
    "        return result\n",
    "    return wrapper\n",
    "\n",
    "\n",
    "@timer\n",
    "def heavy_task():\n",
    "    return sum(range(10_000_000))\n",
    "\n",
    "\n",
    "heavy_task()"
   ]
  },
  {
   "cell_type": "markdown",
   "id": "db619a28",
   "metadata": {},
   "source": [
    "⏱️ 2. Context Manager (for any block/line)"
   ]
  },
  {
   "cell_type": "code",
   "execution_count": null,
   "id": "f7d77a27",
   "metadata": {},
   "outputs": [],
   "source": [
    "import time\n",
    "\n",
    "class Timer:\n",
    "    def __enter__(self):\n",
    "        self.start = time.perf_counter()\n",
    "        return self\n",
    "    def __exit__(self, *args):\n",
    "        self.end = time.perf_counter()\n",
    "        print(f\"⏱️ Execution took {self.end - self.start:.6f} seconds\")\n",
    "\n",
    "with Timer():\n",
    "    # any line/block you want to measure\n",
    "    result = sum(range(10_000_000))"
   ]
  },
  {
   "cell_type": "markdown",
   "id": "76eb0f54",
   "metadata": {},
   "source": [
    "⏱️ 3. Inline Utility Function (for one line)"
   ]
  },
  {
   "cell_type": "code",
   "execution_count": null,
   "id": "87088c66",
   "metadata": {},
   "outputs": [],
   "source": [
    "import time\n",
    "\n",
    "def time_line(code, globals=None):\n",
    "    start = time.perf_counter()\n",
    "    exec(code, globals)\n",
    "    end = time.perf_counter()\n",
    "    print(f\"⏱️ Line '{code}' took {end - start:.6f} seconds\")\n",
    "\n",
    "time_line(\"result = sum(range(10_000_000))\", globals())"
   ]
  }
 ],
 "metadata": {
  "kernelspec": {
   "display_name": "Python 3",
   "language": "python",
   "name": "python3"
  },
  "language_info": {
   "codemirror_mode": {
    "name": "ipython",
    "version": 3
   },
   "file_extension": ".py",
   "mimetype": "text/x-python",
   "name": "python",
   "nbconvert_exporter": "python",
   "pygments_lexer": "ipython3",
   "version": "3.11.2"
  }
 },
 "nbformat": 4,
 "nbformat_minor": 5
}
